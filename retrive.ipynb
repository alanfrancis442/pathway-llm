{
 "cells": [
  {
   "cell_type": "code",
   "execution_count": 1,
   "metadata": {},
   "outputs": [],
   "source": [
    "from llama_index.retrievers.pathway import PathwayRetriever"
   ]
  },
  {
   "cell_type": "code",
   "execution_count": 4,
   "metadata": {},
   "outputs": [
    {
     "name": "stdout",
     "output_type": "stream",
     "text": [
      "[NodeWithScore(node=TextNode(id_='a42daa9a-4785-467b-8d57-672f50de2fbc', embedding=None, metadata={'created_at': 1715630719, 'modified_at': 1715630720, 'owner': 'alan', 'path': 'data/pathway_readme.md', 'seen_at': 1715630941}, excluded_embed_metadata_keys=[], excluded_llm_metadata_keys=[], relationships={}, text=\"Get Help\\n\\nIf you have any questions, issues, or just want to chat about Pathway, we're here to help! Feel free to:\\n- Check out the documentation in https://pathway.com/developers/ for detailed information.\\n- Reach out to us via email at contact@pathway.com.\\n\\nOur team is always happy to help you and ensure that you get the most out of Pathway.\\nIf you would like to better understand how best to use Pathway in your project, please don't hesitate to reach out to us.\", start_char_idx=None, end_char_idx=None, text_template='{metadata_str}\\n\\n{content}', metadata_template='{key}: {value}', metadata_seperator='\\n'), score=0.7650629080936203), NodeWithScore(node=TextNode(id_='817c6ffe-6f93-4dc5-8140-105f5d5cedac', embedding=None, metadata={'created_at': 1715630719, 'modified_at': 1715630720, 'owner': 'alan', 'path': 'data/pathway_readme.md', 'seen_at': 1715630941}, excluded_embed_metadata_keys=[], excluded_llm_metadata_keys=[], relationships={}, text='Resources\\n\\nSee also: Pathway Documentation (https://pathway.com/developers/) webpage (including API Docs).\\n\\n### Videos about Pathway<a id=\"videos-about-pathway\"></a>\\n[▶️ Building an LLM Application without a vector database](https://www.youtube.com/watch?v=kcrJSk00duw) - by [Jan Chorowski](https://scholar.google.com/citations?user=Yc94070AAAAJ) (7min 56s)\\n\\n[▶️ Linear regression on a Kafka Stream](https://vimeo.com/805069039) - by [Richard Pelgrim](https://twitter.com/richardpelgrim) (7min 53s)\\n\\n[▶️', start_char_idx=None, end_char_idx=None, text_template='{metadata_str}\\n\\n{content}', metadata_template='{key}: {value}', metadata_seperator='\\n'), score=0.5861207319219677)]\n"
     ]
    }
   ],
   "source": [
    "\n",
    "retriever = PathwayRetriever(host=\"127.0.0.1\", port=8754)\n",
    "results = retriever.retrieve(str_or_query_bundle=\"what is pathway\")\n",
    "print(results)"
   ]
  }
 ],
 "metadata": {
  "kernelspec": {
   "display_name": "Python 3",
   "language": "python",
   "name": "python3"
  },
  "language_info": {
   "codemirror_mode": {
    "name": "ipython",
    "version": 3
   },
   "file_extension": ".py",
   "mimetype": "text/x-python",
   "name": "python",
   "nbconvert_exporter": "python",
   "pygments_lexer": "ipython3",
   "version": "3.11.9"
  }
 },
 "nbformat": 4,
 "nbformat_minor": 2
}
